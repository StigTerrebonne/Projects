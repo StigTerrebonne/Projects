{
 "cells": [
  {
   "cell_type": "code",
   "execution_count": 1,
   "metadata": {},
   "outputs": [],
   "source": [
    "import pandas as pd\n",
    "import numpy as np\n",
    "import matplotlib.pyplot as plt\n",
    "import seaborn as sns\n",
    "import os\n",
    "import glob\n",
    "import warnings\n",
    "warnings.filterwarnings('ignore')"
   ]
  },
  {
   "cell_type": "code",
   "execution_count": 2,
   "metadata": {},
   "outputs": [],
   "source": [
    "bike_path = os.path.join('data', 'bike_clean.csv')\n",
    "bikes = pd.read_csv(bike_path)"
   ]
  },
  {
   "cell_type": "code",
   "execution_count": 3,
   "metadata": {},
   "outputs": [
    {
     "data": {
      "text/html": [
       "<div>\n",
       "<style scoped>\n",
       "    .dataframe tbody tr th:only-of-type {\n",
       "        vertical-align: middle;\n",
       "    }\n",
       "\n",
       "    .dataframe tbody tr th {\n",
       "        vertical-align: top;\n",
       "    }\n",
       "\n",
       "    .dataframe thead th {\n",
       "        text-align: right;\n",
       "    }\n",
       "</style>\n",
       "<table border=\"1\" class=\"dataframe\">\n",
       "  <thead>\n",
       "    <tr style=\"text-align: right;\">\n",
       "      <th></th>\n",
       "      <th>bike_id</th>\n",
       "      <th>bike_type</th>\n",
       "      <th>passholder_type</th>\n",
       "      <th>duration</th>\n",
       "      <th>trip_route_category</th>\n",
       "      <th>estimated_fare</th>\n",
       "      <th>temperature</th>\n",
       "      <th>humidity</th>\n",
       "      <th>windspeed</th>\n",
       "      <th>weather</th>\n",
       "      <th>start_station</th>\n",
       "      <th>end_station</th>\n",
       "      <th>start_time</th>\n",
       "      <th>end_time</th>\n",
       "      <th>start_lat_lon</th>\n",
       "      <th>end_lat_lon</th>\n",
       "    </tr>\n",
       "  </thead>\n",
       "  <tbody>\n",
       "    <tr>\n",
       "      <th>0</th>\n",
       "      <td>12017</td>\n",
       "      <td>standard</td>\n",
       "      <td>Walk-up</td>\n",
       "      <td>26</td>\n",
       "      <td>One Way</td>\n",
       "      <td>1.75</td>\n",
       "      <td>54</td>\n",
       "      <td>17</td>\n",
       "      <td>5</td>\n",
       "      <td>Few Clouds</td>\n",
       "      <td>3005.0</td>\n",
       "      <td>3082.0</td>\n",
       "      <td>2018-12-31 23:56:00</td>\n",
       "      <td>2019-01-01 00:22:00</td>\n",
       "      <td>(34.0485, -118.25853700000002)</td>\n",
       "      <td>(34.04652, -118.23741100000001)</td>\n",
       "    </tr>\n",
       "    <tr>\n",
       "      <th>1</th>\n",
       "      <td>12128</td>\n",
       "      <td>standard</td>\n",
       "      <td>Walk-up</td>\n",
       "      <td>28</td>\n",
       "      <td>One Way</td>\n",
       "      <td>1.75</td>\n",
       "      <td>54</td>\n",
       "      <td>17</td>\n",
       "      <td>5</td>\n",
       "      <td>Few Clouds</td>\n",
       "      <td>3005.0</td>\n",
       "      <td>3082.0</td>\n",
       "      <td>2018-12-31 23:54:00</td>\n",
       "      <td>2019-01-01 00:22:00</td>\n",
       "      <td>(34.0485, -118.25853700000002)</td>\n",
       "      <td>(34.04652, -118.23741100000001)</td>\n",
       "    </tr>\n",
       "    <tr>\n",
       "      <th>2</th>\n",
       "      <td>12347</td>\n",
       "      <td>standard</td>\n",
       "      <td>Walk-up</td>\n",
       "      <td>97</td>\n",
       "      <td>One Way</td>\n",
       "      <td>7.00</td>\n",
       "      <td>54</td>\n",
       "      <td>17</td>\n",
       "      <td>5</td>\n",
       "      <td>Few Clouds</td>\n",
       "      <td>4211.0</td>\n",
       "      <td>4210.0</td>\n",
       "      <td>2018-12-31 23:51:00</td>\n",
       "      <td>2019-01-01 01:28:00</td>\n",
       "      <td>(33.984928000000004, -118.46996299999999)</td>\n",
       "      <td>(33.984341, -118.47155)</td>\n",
       "    </tr>\n",
       "    <tr>\n",
       "      <th>3</th>\n",
       "      <td>5730</td>\n",
       "      <td>standard</td>\n",
       "      <td>Walk-up</td>\n",
       "      <td>7</td>\n",
       "      <td>Round Trip</td>\n",
       "      <td>1.75</td>\n",
       "      <td>54</td>\n",
       "      <td>17</td>\n",
       "      <td>5</td>\n",
       "      <td>Few Clouds</td>\n",
       "      <td>3069.0</td>\n",
       "      <td>3069.0</td>\n",
       "      <td>2018-12-31 23:47:00</td>\n",
       "      <td>2018-12-31 23:54:00</td>\n",
       "      <td>(34.05088, -118.248253)</td>\n",
       "      <td>(34.05088, -118.248253)</td>\n",
       "    </tr>\n",
       "    <tr>\n",
       "      <th>4</th>\n",
       "      <td>6222</td>\n",
       "      <td>standard</td>\n",
       "      <td>Walk-up</td>\n",
       "      <td>9</td>\n",
       "      <td>Round Trip</td>\n",
       "      <td>1.75</td>\n",
       "      <td>54</td>\n",
       "      <td>17</td>\n",
       "      <td>5</td>\n",
       "      <td>Few Clouds</td>\n",
       "      <td>3069.0</td>\n",
       "      <td>3069.0</td>\n",
       "      <td>2018-12-31 23:46:00</td>\n",
       "      <td>2018-12-31 23:55:00</td>\n",
       "      <td>(34.05088, -118.248253)</td>\n",
       "      <td>(34.05088, -118.248253)</td>\n",
       "    </tr>\n",
       "  </tbody>\n",
       "</table>\n",
       "</div>"
      ],
      "text/plain": [
       "  bike_id bike_type passholder_type  duration trip_route_category  \\\n",
       "0   12017  standard         Walk-up        26             One Way   \n",
       "1   12128  standard         Walk-up        28             One Way   \n",
       "2   12347  standard         Walk-up        97             One Way   \n",
       "3    5730  standard         Walk-up         7          Round Trip   \n",
       "4    6222  standard         Walk-up         9          Round Trip   \n",
       "\n",
       "   estimated_fare  temperature  humidity  windspeed     weather  \\\n",
       "0            1.75           54        17          5  Few Clouds   \n",
       "1            1.75           54        17          5  Few Clouds   \n",
       "2            7.00           54        17          5  Few Clouds   \n",
       "3            1.75           54        17          5  Few Clouds   \n",
       "4            1.75           54        17          5  Few Clouds   \n",
       "\n",
       "   start_station  end_station           start_time             end_time  \\\n",
       "0         3005.0       3082.0  2018-12-31 23:56:00  2019-01-01 00:22:00   \n",
       "1         3005.0       3082.0  2018-12-31 23:54:00  2019-01-01 00:22:00   \n",
       "2         4211.0       4210.0  2018-12-31 23:51:00  2019-01-01 01:28:00   \n",
       "3         3069.0       3069.0  2018-12-31 23:47:00  2018-12-31 23:54:00   \n",
       "4         3069.0       3069.0  2018-12-31 23:46:00  2018-12-31 23:55:00   \n",
       "\n",
       "                               start_lat_lon                      end_lat_lon  \n",
       "0             (34.0485, -118.25853700000002)  (34.04652, -118.23741100000001)  \n",
       "1             (34.0485, -118.25853700000002)  (34.04652, -118.23741100000001)  \n",
       "2  (33.984928000000004, -118.46996299999999)          (33.984341, -118.47155)  \n",
       "3                    (34.05088, -118.248253)          (34.05088, -118.248253)  \n",
       "4                    (34.05088, -118.248253)          (34.05088, -118.248253)  "
      ]
     },
     "execution_count": 3,
     "metadata": {},
     "output_type": "execute_result"
    }
   ],
   "source": [
    "bikes.head()"
   ]
  },
  {
   "cell_type": "markdown",
   "metadata": {},
   "source": [
    "We will now be investigating the impact of weather on bike ridership. Since Los Angeles resides within sunny California, we can anticipate some active year-round activity. But how exactly does ridership change with different termperatures, windspeeds, humidities, or overall weather conditions?\n",
    "\n",
    "Lets begin by seeing the conditions people prefer to bike in."
   ]
  },
  {
   "cell_type": "code",
   "execution_count": 4,
   "metadata": {
    "scrolled": true
   },
   "outputs": [
    {
     "data": {
      "text/html": [
       "<div>\n",
       "<style scoped>\n",
       "    .dataframe tbody tr th:only-of-type {\n",
       "        vertical-align: middle;\n",
       "    }\n",
       "\n",
       "    .dataframe tbody tr th {\n",
       "        vertical-align: top;\n",
       "    }\n",
       "\n",
       "    .dataframe thead th {\n",
       "        text-align: right;\n",
       "    }\n",
       "</style>\n",
       "<table border=\"1\" class=\"dataframe\">\n",
       "  <thead>\n",
       "    <tr style=\"text-align: right;\">\n",
       "      <th></th>\n",
       "      <th>trips</th>\n",
       "    </tr>\n",
       "  </thead>\n",
       "  <tbody>\n",
       "    <tr>\n",
       "      <th>Few Clouds</th>\n",
       "      <td>192663</td>\n",
       "    </tr>\n",
       "    <tr>\n",
       "      <th>Scattered Clouds</th>\n",
       "      <td>143130</td>\n",
       "    </tr>\n",
       "    <tr>\n",
       "      <th>Broken Clouds</th>\n",
       "      <td>115100</td>\n",
       "    </tr>\n",
       "    <tr>\n",
       "      <th>Clear</th>\n",
       "      <td>95547</td>\n",
       "    </tr>\n",
       "    <tr>\n",
       "      <th>Overcast</th>\n",
       "      <td>43365</td>\n",
       "    </tr>\n",
       "    <tr>\n",
       "      <th>Haze</th>\n",
       "      <td>22024</td>\n",
       "    </tr>\n",
       "    <tr>\n",
       "      <th>Mist</th>\n",
       "      <td>15749</td>\n",
       "    </tr>\n",
       "    <tr>\n",
       "      <th>Patches of Fog and Mist</th>\n",
       "      <td>3664</td>\n",
       "    </tr>\n",
       "    <tr>\n",
       "      <th>Fog</th>\n",
       "      <td>2386</td>\n",
       "    </tr>\n",
       "    <tr>\n",
       "      <th>Patches of Fog</th>\n",
       "      <td>1341</td>\n",
       "    </tr>\n",
       "    <tr>\n",
       "      <th>Light Rain</th>\n",
       "      <td>1284</td>\n",
       "    </tr>\n",
       "    <tr>\n",
       "      <th>Light Rain and Mist</th>\n",
       "      <td>1162</td>\n",
       "    </tr>\n",
       "    <tr>\n",
       "      <th>Haze and Smoke</th>\n",
       "      <td>423</td>\n",
       "    </tr>\n",
       "    <tr>\n",
       "      <th>Smoke</th>\n",
       "      <td>284</td>\n",
       "    </tr>\n",
       "    <tr>\n",
       "      <th>Shallow Fog</th>\n",
       "      <td>282</td>\n",
       "    </tr>\n",
       "    <tr>\n",
       "      <th>Fog in Vicinity</th>\n",
       "      <td>223</td>\n",
       "    </tr>\n",
       "    <tr>\n",
       "      <th>Rain and Mist</th>\n",
       "      <td>199</td>\n",
       "    </tr>\n",
       "    <tr>\n",
       "      <th>Fog and Mist</th>\n",
       "      <td>191</td>\n",
       "    </tr>\n",
       "    <tr>\n",
       "      <th>Light Drizzle</th>\n",
       "      <td>115</td>\n",
       "    </tr>\n",
       "    <tr>\n",
       "      <th>Light Drizzle and Mist</th>\n",
       "      <td>109</td>\n",
       "    </tr>\n",
       "    <tr>\n",
       "      <th>Partial Fog and Mist</th>\n",
       "      <td>96</td>\n",
       "    </tr>\n",
       "    <tr>\n",
       "      <th>Rain</th>\n",
       "      <td>86</td>\n",
       "    </tr>\n",
       "    <tr>\n",
       "      <th>Heavy Rain and Mist</th>\n",
       "      <td>78</td>\n",
       "    </tr>\n",
       "    <tr>\n",
       "      <th>Thunderstorm and Rain</th>\n",
       "      <td>33</td>\n",
       "    </tr>\n",
       "    <tr>\n",
       "      <th>Drizzle and Mist</th>\n",
       "      <td>32</td>\n",
       "    </tr>\n",
       "    <tr>\n",
       "      <th>Drizzle</th>\n",
       "      <td>32</td>\n",
       "    </tr>\n",
       "    <tr>\n",
       "      <th>Partial Fog</th>\n",
       "      <td>20</td>\n",
       "    </tr>\n",
       "    <tr>\n",
       "      <th>Thunderstor in Vicinity and Light Rain</th>\n",
       "      <td>19</td>\n",
       "    </tr>\n",
       "    <tr>\n",
       "      <th>Light Thunderstorm and Rain</th>\n",
       "      <td>15</td>\n",
       "    </tr>\n",
       "    <tr>\n",
       "      <th>Thunderstorm in Vicinity</th>\n",
       "      <td>14</td>\n",
       "    </tr>\n",
       "    <tr>\n",
       "      <th>Thunderstorm in Vicinity with Rain and Mist</th>\n",
       "      <td>6</td>\n",
       "    </tr>\n",
       "    <tr>\n",
       "      <th>Heavy Rain and Fog</th>\n",
       "      <td>4</td>\n",
       "    </tr>\n",
       "    <tr>\n",
       "      <th>Mist and Light Drizzle</th>\n",
       "      <td>3</td>\n",
       "    </tr>\n",
       "    <tr>\n",
       "      <th>Showers in Vicinity</th>\n",
       "      <td>2</td>\n",
       "    </tr>\n",
       "    <tr>\n",
       "      <th>Drizzle and Fog</th>\n",
       "      <td>1</td>\n",
       "    </tr>\n",
       "  </tbody>\n",
       "</table>\n",
       "</div>"
      ],
      "text/plain": [
       "                                              trips\n",
       "Few Clouds                                   192663\n",
       "Scattered Clouds                             143130\n",
       "Broken Clouds                                115100\n",
       "Clear                                         95547\n",
       "Overcast                                      43365\n",
       "Haze                                          22024\n",
       "Mist                                          15749\n",
       "Patches of Fog and Mist                        3664\n",
       "Fog                                            2386\n",
       "Patches of Fog                                 1341\n",
       "Light Rain                                     1284\n",
       "Light Rain and Mist                            1162\n",
       "Haze and Smoke                                  423\n",
       "Smoke                                           284\n",
       "Shallow Fog                                     282\n",
       "Fog in Vicinity                                 223\n",
       "Rain and Mist                                   199\n",
       "Fog and Mist                                    191\n",
       "Light Drizzle                                   115\n",
       "Light Drizzle and Mist                          109\n",
       "Partial Fog and Mist                             96\n",
       "Rain                                             86\n",
       "Heavy Rain and Mist                              78\n",
       "Thunderstorm and Rain                            33\n",
       "Drizzle and Mist                                 32\n",
       "Drizzle                                          32\n",
       "Partial Fog                                      20\n",
       "Thunderstor in Vicinity and Light Rain           19\n",
       "Light Thunderstorm and Rain                      15\n",
       "Thunderstorm in Vicinity                         14\n",
       "Thunderstorm in Vicinity with Rain and Mist       6\n",
       "Heavy Rain and Fog                                4\n",
       "Mist and Light Drizzle                            3\n",
       "Showers in Vicinity                               2\n",
       "Drizzle and Fog                                   1"
      ]
     },
     "execution_count": 4,
     "metadata": {},
     "output_type": "execute_result"
    }
   ],
   "source": [
    "weather_cnts = bikes['weather'].value_counts().to_frame(name='trips')\n",
    "weather_cnts"
   ]
  },
  {
   "cell_type": "markdown",
   "metadata": {},
   "source": [
    "That's a lot of variability! Lets focus on the top 10 as they make up 99% of the total trips."
   ]
  },
  {
   "cell_type": "code",
   "execution_count": 5,
   "metadata": {
    "scrolled": true
   },
   "outputs": [
    {
     "data": {
      "image/png": "[encoded data removed]",
      "text/plain": [
       "<Figure size 432x288 with 1 Axes>"
      ]
     },
     "metadata": {},
     "output_type": "display_data"
    }
   ],
   "source": [
    "top_10 = weather_cnts.reset_index().rename(columns={'index': 'weather'})[:10]\n",
    "sns.barplot(y='weather', x='trips', data=top_10)\n",
    "plt.xlabel('number of trips');"
   ]
  },
  {
   "cell_type": "markdown",
   "metadata": {},
   "source": [
    "As can be expected, people prefer to bike in clearer conditions. Once clouds begin to fill the sky, some mist begins to fall, or fog gets in the way of riders' visibility, biking isn't so popular...\n",
    "\n",
    "Let's investigate some other factors."
   ]
  },
  {
   "cell_type": "code",
   "execution_count": 6,
   "metadata": {},
   "outputs": [
    {
     "data": {
      "text/html": [
       "<div>\n",
       "<style scoped>\n",
       "    .dataframe tbody tr th:only-of-type {\n",
       "        vertical-align: middle;\n",
       "    }\n",
       "\n",
       "    .dataframe tbody tr th {\n",
       "        vertical-align: top;\n",
       "    }\n",
       "\n",
       "    .dataframe thead th {\n",
       "        text-align: right;\n",
       "    }\n",
       "</style>\n",
       "<table border=\"1\" class=\"dataframe\">\n",
       "  <thead>\n",
       "    <tr style=\"text-align: right;\">\n",
       "      <th></th>\n",
       "      <th>count</th>\n",
       "      <th>mean</th>\n",
       "      <th>std</th>\n",
       "      <th>min</th>\n",
       "      <th>25%</th>\n",
       "      <th>50%</th>\n",
       "      <th>75%</th>\n",
       "      <th>max</th>\n",
       "    </tr>\n",
       "  </thead>\n",
       "  <tbody>\n",
       "    <tr>\n",
       "      <th>temperature</th>\n",
       "      <td>639786.0</td>\n",
       "      <td>67.806199</td>\n",
       "      <td>6.909786</td>\n",
       "      <td>41.0</td>\n",
       "      <td>63.0</td>\n",
       "      <td>68.0</td>\n",
       "      <td>72.0</td>\n",
       "      <td>103.0</td>\n",
       "    </tr>\n",
       "    <tr>\n",
       "      <th>humidity</th>\n",
       "      <td>639786.0</td>\n",
       "      <td>65.564731</td>\n",
       "      <td>18.861341</td>\n",
       "      <td>3.0</td>\n",
       "      <td>59.0</td>\n",
       "      <td>69.0</td>\n",
       "      <td>78.0</td>\n",
       "      <td>100.0</td>\n",
       "    </tr>\n",
       "    <tr>\n",
       "      <th>windspeed</th>\n",
       "      <td>639786.0</td>\n",
       "      <td>9.416453</td>\n",
       "      <td>4.746579</td>\n",
       "      <td>0.0</td>\n",
       "      <td>6.0</td>\n",
       "      <td>9.0</td>\n",
       "      <td>13.0</td>\n",
       "      <td>33.0</td>\n",
       "    </tr>\n",
       "  </tbody>\n",
       "</table>\n",
       "</div>"
      ],
      "text/plain": [
       "                count       mean        std   min   25%   50%   75%    max\n",
       "temperature  639786.0  67.806199   6.909786  41.0  63.0  68.0  72.0  103.0\n",
       "humidity     639786.0  65.564731  18.861341   3.0  59.0  69.0  78.0  100.0\n",
       "windspeed    639786.0   9.416453   4.746579   0.0   6.0   9.0  13.0   33.0"
      ]
     },
     "execution_count": 6,
     "metadata": {},
     "output_type": "execute_result"
    },
    {
     "data": {
      "image/png": "[encoded data removed]",
      "text/plain": [
       "<Figure size 1296x360 with 3 Axes>"
      ]
     },
     "metadata": {},
     "output_type": "display_data"
    }
   ],
   "source": [
    "fig, axes = plt.subplots(nrows=1, ncols=3, figsize=(18,5))\n",
    "\n",
    "sns.distplot(bikes['temperature'], ax=axes[0], hist=True, axlabel='Temperature (F)', kde=False)\n",
    "sns.distplot(bikes['humidity'], ax=axes[1], hist=True, axlabel= 'Relative Humidity', kde=False)\n",
    "sns.distplot(bikes['windspeed'], ax=axes[2], hist=True, axlabel= 'Windspeed (MPH)', kde=False)\n",
    "plt.tight_layout()\n",
    "bikes[['temperature', 'humidity', 'windspeed']].describe().T"
   ]
  },
  {
   "cell_type": "markdown",
   "metadata": {},
   "source": [
    "Again, we see that people choose to bike in ideal conditions. According to our plots, the typical bike rider prefers to bike during times of visible skies, temperatures in the high 60s, moderate humidity, and subtle windspeeds. Overall, this is not surprising. Who would want to bike, or even go outside, during undesirable conditions? \n",
    "\n",
    "We should now investigate how weather conditions affect biking habits, most notably duration."
   ]
  },
  {
   "cell_type": "code",
   "execution_count": 7,
   "metadata": {},
   "outputs": [
    {
     "data": {
      "text/html": [
       "<div>\n",
       "<style scoped>\n",
       "    .dataframe tbody tr th:only-of-type {\n",
       "        vertical-align: middle;\n",
       "    }\n",
       "\n",
       "    .dataframe tbody tr th {\n",
       "        vertical-align: top;\n",
       "    }\n",
       "\n",
       "    .dataframe thead th {\n",
       "        text-align: right;\n",
       "    }\n",
       "</style>\n",
       "<table border=\"1\" class=\"dataframe\">\n",
       "  <thead>\n",
       "    <tr style=\"text-align: right;\">\n",
       "      <th></th>\n",
       "      <th>duration</th>\n",
       "    </tr>\n",
       "    <tr>\n",
       "      <th>weather</th>\n",
       "      <th></th>\n",
       "    </tr>\n",
       "  </thead>\n",
       "  <tbody>\n",
       "    <tr>\n",
       "      <th>Heavy Rain and Fog</th>\n",
       "      <td>735.000000</td>\n",
       "    </tr>\n",
       "    <tr>\n",
       "      <th>Drizzle and Mist</th>\n",
       "      <td>705.000000</td>\n",
       "    </tr>\n",
       "    <tr>\n",
       "      <th>Partial Fog</th>\n",
       "      <td>633.000000</td>\n",
       "    </tr>\n",
       "    <tr>\n",
       "      <th>Thunderstorm in Vicinity with Rain and Mist</th>\n",
       "      <td>590.000000</td>\n",
       "    </tr>\n",
       "    <tr>\n",
       "      <th>Drizzle and Fog</th>\n",
       "      <td>300.000000</td>\n",
       "    </tr>\n",
       "    <tr>\n",
       "      <th>Patches of Fog</th>\n",
       "      <td>275.073080</td>\n",
       "    </tr>\n",
       "    <tr>\n",
       "      <th>Fog</th>\n",
       "      <td>274.663034</td>\n",
       "    </tr>\n",
       "    <tr>\n",
       "      <th>Rain and Mist</th>\n",
       "      <td>232.170854</td>\n",
       "    </tr>\n",
       "    <tr>\n",
       "      <th>Light Rain and Mist</th>\n",
       "      <td>205.228916</td>\n",
       "    </tr>\n",
       "    <tr>\n",
       "      <th>Light Rain</th>\n",
       "      <td>191.451713</td>\n",
       "    </tr>\n",
       "    <tr>\n",
       "      <th>Rain</th>\n",
       "      <td>188.674419</td>\n",
       "    </tr>\n",
       "    <tr>\n",
       "      <th>Patches of Fog and Mist</th>\n",
       "      <td>182.472162</td>\n",
       "    </tr>\n",
       "    <tr>\n",
       "      <th>Few Clouds</th>\n",
       "      <td>153.184462</td>\n",
       "    </tr>\n",
       "    <tr>\n",
       "      <th>Shallow Fog</th>\n",
       "      <td>148.010638</td>\n",
       "    </tr>\n",
       "    <tr>\n",
       "      <th>Light Drizzle and Mist</th>\n",
       "      <td>145.394495</td>\n",
       "    </tr>\n",
       "    <tr>\n",
       "      <th>Clear</th>\n",
       "      <td>144.099773</td>\n",
       "    </tr>\n",
       "    <tr>\n",
       "      <th>Broken Clouds</th>\n",
       "      <td>126.242163</td>\n",
       "    </tr>\n",
       "    <tr>\n",
       "      <th>Mist</th>\n",
       "      <td>123.461934</td>\n",
       "    </tr>\n",
       "    <tr>\n",
       "      <th>Haze</th>\n",
       "      <td>120.784145</td>\n",
       "    </tr>\n",
       "    <tr>\n",
       "      <th>Scattered Clouds</th>\n",
       "      <td>120.709083</td>\n",
       "    </tr>\n",
       "    <tr>\n",
       "      <th>Heavy Rain and Mist</th>\n",
       "      <td>111.974359</td>\n",
       "    </tr>\n",
       "    <tr>\n",
       "      <th>Overcast</th>\n",
       "      <td>111.338637</td>\n",
       "    </tr>\n",
       "    <tr>\n",
       "      <th>Light Drizzle</th>\n",
       "      <td>62.652174</td>\n",
       "    </tr>\n",
       "    <tr>\n",
       "      <th>Haze and Smoke</th>\n",
       "      <td>58.877069</td>\n",
       "    </tr>\n",
       "    <tr>\n",
       "      <th>Smoke</th>\n",
       "      <td>39.531690</td>\n",
       "    </tr>\n",
       "    <tr>\n",
       "      <th>Fog in Vicinity</th>\n",
       "      <td>38.820628</td>\n",
       "    </tr>\n",
       "    <tr>\n",
       "      <th>Fog and Mist</th>\n",
       "      <td>33.837696</td>\n",
       "    </tr>\n",
       "    <tr>\n",
       "      <th>Partial Fog and Mist</th>\n",
       "      <td>30.645833</td>\n",
       "    </tr>\n",
       "    <tr>\n",
       "      <th>Drizzle</th>\n",
       "      <td>29.437500</td>\n",
       "    </tr>\n",
       "    <tr>\n",
       "      <th>Thunderstor in Vicinity and Light Rain</th>\n",
       "      <td>29.210526</td>\n",
       "    </tr>\n",
       "    <tr>\n",
       "      <th>Mist and Light Drizzle</th>\n",
       "      <td>25.000000</td>\n",
       "    </tr>\n",
       "    <tr>\n",
       "      <th>Thunderstorm and Rain</th>\n",
       "      <td>15.757576</td>\n",
       "    </tr>\n",
       "    <tr>\n",
       "      <th>Light Thunderstorm and Rain</th>\n",
       "      <td>12.933333</td>\n",
       "    </tr>\n",
       "    <tr>\n",
       "      <th>Thunderstorm in Vicinity</th>\n",
       "      <td>12.428571</td>\n",
       "    </tr>\n",
       "    <tr>\n",
       "      <th>Showers in Vicinity</th>\n",
       "      <td>3.000000</td>\n",
       "    </tr>\n",
       "  </tbody>\n",
       "</table>\n",
       "</div>"
      ],
      "text/plain": [
       "                                               duration\n",
       "weather                                                \n",
       "Heavy Rain and Fog                           735.000000\n",
       "Drizzle and Mist                             705.000000\n",
       "Partial Fog                                  633.000000\n",
       "Thunderstorm in Vicinity with Rain and Mist  590.000000\n",
       "Drizzle and Fog                              300.000000\n",
       "Patches of Fog                               275.073080\n",
       "Fog                                          274.663034\n",
       "Rain and Mist                                232.170854\n",
       "Light Rain and Mist                          205.228916\n",
       "Light Rain                                   191.451713\n",
       "Rain                                         188.674419\n",
       "Patches of Fog and Mist                      182.472162\n",
       "Few Clouds                                   153.184462\n",
       "Shallow Fog                                  148.010638\n",
       "Light Drizzle and Mist                       145.394495\n",
       "Clear                                        144.099773\n",
       "Broken Clouds                                126.242163\n",
       "Mist                                         123.461934\n",
       "Haze                                         120.784145\n",
       "Scattered Clouds                             120.709083\n",
       "Heavy Rain and Mist                          111.974359\n",
       "Overcast                                     111.338637\n",
       "Light Drizzle                                 62.652174\n",
       "Haze and Smoke                                58.877069\n",
       "Smoke                                         39.531690\n",
       "Fog in Vicinity                               38.820628\n",
       "Fog and Mist                                  33.837696\n",
       "Partial Fog and Mist                          30.645833\n",
       "Drizzle                                       29.437500\n",
       "Thunderstor in Vicinity and Light Rain        29.210526\n",
       "Mist and Light Drizzle                        25.000000\n",
       "Thunderstorm and Rain                         15.757576\n",
       "Light Thunderstorm and Rain                   12.933333\n",
       "Thunderstorm in Vicinity                      12.428571\n",
       "Showers in Vicinity                            3.000000"
      ]
     },
     "execution_count": 7,
     "metadata": {},
     "output_type": "execute_result"
    }
   ],
   "source": [
    "bikes.groupby('weather')['duration'].mean().sort_values(ascending=False).to_frame(name='duration')"
   ]
  },
  {
   "cell_type": "markdown",
   "metadata": {},
   "source": [
    "According to the table above, people choose to bike the longest during more treacherous conditions... This seems to completely go against our previous findings of people predominently biking during ideal conditions. However, we should recall what Metro Bike Share stated about the preprocessing of their data.\n",
    "\n",
    "> * Some short round trips or long trips may be the result of system or user error, but have been kept in the dataset for completeness.\n",
    "\n",
    "We can safely assume that this is the cause of this discrepency. Unless, of course, some riders like to bike for over 700 minutes in heavy rain, fog, and conditions alike... \n",
    "\n",
    "Also important to notice, the vast majority of the weather conditions with the highest duration in this table were at the bottom of our number of trips table above (<1% of trips) so we can infer that these durations do not reflect typical biking habits. \n",
    "\n",
    "We will again focus on the top 10 weather conditions. Because the distributions of durations for almost all weather conditions are heavily right skewed, we will be using the **median instead of the mean** to quanitify duration. Also, because we are focusing on the _typical_ and _real_ bike rider, we will max out the duration at the **85th percentile** as much of the suspicious data lies past this point as highlighted below. This suspicious data and skew is most likely due to the same reason as above."
   ]
  },
  {
   "cell_type": "code",
   "execution_count": 8,
   "metadata": {},
   "outputs": [
    {
     "data": {
      "image/png": "[encoded data removed]",
      "text/plain": [
       "<Figure size 432x288 with 1 Axes>"
      ]
     },
     "metadata": {},
     "output_type": "display_data"
    }
   ],
   "source": [
    "percentiles = []\n",
    "\n",
    "for i in np.arange(10, 101, 5):\n",
    "    percentiles.append(np.percentile(bikes['duration'], i))\n",
    "\n",
    "plt.scatter(x=np.arange(10, 101, 5), y=percentiles)\n",
    "plt.xticks(np.arange(10, 101, 5))\n",
    "plt.ylabel('Duration')\n",
    "plt.xlabel('Percentile');"
   ]
  },
  {
   "cell_type": "code",
   "execution_count": 9,
   "metadata": {},
   "outputs": [
    {
     "name": "stdout",
     "output_type": "stream",
     "text": [
      "The 85th percentile is 213.0 minutes!\n"
     ]
    }
   ],
   "source": [
    "eighty_five = np.percentile(bikes['duration'], 85)\n",
    "print('The 85th percentile is %s minutes!' %eighty_five)"
   ]
  },
  {
   "cell_type": "markdown",
   "metadata": {},
   "source": [
    "Lets now fix this and continue on with out analysis!"
   ]
  },
  {
   "cell_type": "code",
   "execution_count": 10,
   "metadata": {
    "scrolled": true
   },
   "outputs": [
    {
     "data": {
      "text/html": [
       "<div>\n",
       "<style scoped>\n",
       "    .dataframe tbody tr th:only-of-type {\n",
       "        vertical-align: middle;\n",
       "    }\n",
       "\n",
       "    .dataframe tbody tr th {\n",
       "        vertical-align: top;\n",
       "    }\n",
       "\n",
       "    .dataframe thead th {\n",
       "        text-align: right;\n",
       "    }\n",
       "</style>\n",
       "<table border=\"1\" class=\"dataframe\">\n",
       "  <thead>\n",
       "    <tr style=\"text-align: right;\">\n",
       "      <th>weather</th>\n",
       "      <th>Scattered Clouds</th>\n",
       "      <th>Haze</th>\n",
       "      <th>Few Clouds</th>\n",
       "      <th>Broken Clouds</th>\n",
       "      <th>Patches of Fog and Mist</th>\n",
       "      <th>Patches of Fog</th>\n",
       "      <th>Overcast</th>\n",
       "      <th>Clear</th>\n",
       "      <th>Mist</th>\n",
       "      <th>Fog</th>\n",
       "    </tr>\n",
       "  </thead>\n",
       "  <tbody>\n",
       "    <tr>\n",
       "      <th>median duration</th>\n",
       "      <td>12</td>\n",
       "      <td>12</td>\n",
       "      <td>12</td>\n",
       "      <td>12</td>\n",
       "      <td>11</td>\n",
       "      <td>11</td>\n",
       "      <td>11</td>\n",
       "      <td>11</td>\n",
       "      <td>10</td>\n",
       "      <td>10</td>\n",
       "    </tr>\n",
       "  </tbody>\n",
       "</table>\n",
       "</div>"
      ],
      "text/plain": [
       "weather          Scattered Clouds  Haze  Few Clouds  Broken Clouds  \\\n",
       "median duration                12    12          12             12   \n",
       "\n",
       "weather          Patches of Fog and Mist  Patches of Fog  Overcast  Clear  \\\n",
       "median duration                       11              11        11     11   \n",
       "\n",
       "weather          Mist  Fog  \n",
       "median duration    10   10  "
      ]
     },
     "metadata": {},
     "output_type": "display_data"
    },
    {
     "data": {
      "image/png": "[encoded data removed]",
      "text/plain": [
       "<Figure size 1080x288 with 10 Axes>"
      ]
     },
     "metadata": {},
     "output_type": "display_data"
    }
   ],
   "source": [
    "# Calculating median duration for each weather type\n",
    "pop_weather = weather_cnts.index[:10]\n",
    "weather_10 = bikes[(bikes['weather'].isin(pop_weather)) & (bikes['duration'] <= eighty_five)]\n",
    "display(weather_10\n",
    "        .groupby('weather')['duration'].median()\n",
    "        .sort_values(ascending=False).to_frame(name='median duration').T)\n",
    "\n",
    "# Plotting histograms of durations\n",
    "fig, axes = plt.subplots(nrows=2, ncols=5, figsize=(15,4))\n",
    "\n",
    "cols = 0\n",
    "rows = 0\n",
    "for col in weather_10['weather'].unique():\n",
    "    sns.distplot(weather_10[weather_10['weather'] == col]['duration'], \n",
    "                 ax=axes[rows, cols], \n",
    "                 hist=True, \n",
    "                 kde=False)\n",
    "    \n",
    "    axes[rows, cols].set_title(col)\n",
    "    \n",
    "    cols += 1\n",
    "    if cols >= 5:\n",
    "        rows = 1\n",
    "        cols = 0\n",
    "        \n",
    "plt.tight_layout()"
   ]
  },
  {
   "cell_type": "markdown",
   "metadata": {},
   "source": [
    "As can be seen above, there does not seem to be a whole lot of variability in the duration people ride the bikes for. We do see a bit more fluctuation in hazy/foggy conditions compared to clearer conditions, but nothing drastic. The median durations are relatively the same, ranging from 10 minutes to 12 minutes. This is quite surprising as we would expect people to bike longer when in ideal conditions but such does not seem to be the case.\n",
    "\n",
    "Lets see if we can find some connections between duration and the other weather attributes."
   ]
  },
  {
   "cell_type": "code",
   "execution_count": 11,
   "metadata": {},
   "outputs": [
    {
     "data": {
      "image/png": "[encoded data removed]",
      "text/plain": [
       "<Figure size 1080x288 with 3 Axes>"
      ]
     },
     "metadata": {},
     "output_type": "display_data"
    }
   ],
   "source": [
    "# Plotting heat maps for weather attributes vs duration\n",
    "# Given the shear amount of data points, scatter plots were not ideal\n",
    "\n",
    "fig, axes = plt.subplots(nrows=1, ncols=3, figsize=(15,4))\n",
    "\n",
    "axes[0].hist2d(weather_10['temperature'],weather_10['duration'], bins=30, cmap=plt.cm.pink)\n",
    "axes[1].hist2d(weather_10['humidity'],weather_10['duration'], bins=30, cmap=plt.cm.pink)\n",
    "axes[2].hist2d(weather_10['windspeed'],weather_10['duration'], bins=30, cmap=plt.cm.pink)\n",
    "\n",
    "axes[0].set_xlabel('Temperature')\n",
    "axes[0].set_ylabel('Duration')\n",
    "axes[1].set_xlabel('Relative Humidity')\n",
    "axes[1].set_ylabel('Duration')\n",
    "axes[2].set_xlabel('Windspeed')\n",
    "axes[2].set_ylabel('Duration');"
   ]
  },
  {
   "cell_type": "markdown",
   "metadata": {},
   "source": [
    "These heatmaps greatly resemble the histograms we plotted earlier in this notebook for these weather attributes. The most notable connection is temperature and duration. We can see a cone-like formation within the heatmap. Those who bike in temperatures ranging from 60-70 degrees seem to bike the longest. However, this connection could possibly be explained by the fact that the majority of the trips in our data set happen within this temperature range. Likewise, this could be the explanation for these heatmaps resembling the histograms from earlier in our analysis.\n",
    "\n",
    "One feature that is abundantly clear from our analysis thus far is the small durations people are biking for. We can see the heatmaps above die off around the 20-30 minute mark and our previous plots have also shown this trend. Why may this be?\n",
    "\n",
    "If we take another look at the Metro Bike Share pricing at the start of this notebook, they charge bikers in **30 minute intervals** and all bikers who have a membership, except walk-ups, get the first 30 minutes free and pay a small fee thereafter. Rather than weather playing the largest role in duration, it may instead be the price of riding the bikes! \n",
    "\n",
    "With this said, it is natural for us to explore the effects of fare on bike ridership. Lets do some quick analysis of the data."
   ]
  },
  {
   "cell_type": "code",
   "execution_count": 12,
   "metadata": {},
   "outputs": [
    {
     "data": {
      "image/png": "[encoded data removed]",
      "text/plain": [
       "<Figure size 432x288 with 1 Axes>"
      ]
     },
     "metadata": {},
     "output_type": "display_data"
    }
   ],
   "source": [
    "sns.distplot(bikes['estimated_fare'], kde=False);"
   ]
  },
  {
   "cell_type": "markdown",
   "metadata": {},
   "source": [
    "As most distributions that deal with money, the fare histogram for this dataset is heavily right skewed. Since we have already become aware of the discrepencies in our dataset, we will focus on the trips we feel are real. We will max out fare at the **90th percentile** as this data seems the most reliable as highlighted below."
   ]
  },
  {
   "cell_type": "code",
   "execution_count": 64,
   "metadata": {},
   "outputs": [
    {
     "data": {
      "image/png": "[encoded data removed]",
      "text/plain": [
       "<Figure size 432x288 with 1 Axes>"
      ]
     },
     "metadata": {},
     "output_type": "display_data"
    }
   ],
   "source": [
    "# Determining where the most probable bike trips\n",
    "# Those in the 95th and 100th percentiles had trips of several hours!\n",
    "\n",
    "percentiles = []\n",
    "\n",
    "for i in np.arange(10, 101, 5):\n",
    "    percentiles.append(np.percentile(bikes['estimated_fare'], i))\n",
    "\n",
    "plt.scatter(x=np.arange(10, 101, 5), y=percentiles)\n",
    "plt.xticks(np.arange(10, 101, 5))\n",
    "plt.ylabel('Estimated Fare')\n",
    "plt.xlabel('Percentile');"
   ]
  },
  {
   "cell_type": "code",
   "execution_count": 65,
   "metadata": {},
   "outputs": [
    {
     "name": "stdout",
     "output_type": "stream",
     "text": [
      "The 90th percentile is 29.75 dollars!\n"
     ]
    }
   ],
   "source": [
    "ninety = np.percentile(bikes['estimated_fare'], 90)\n",
    "print('The 90th percentile is %s dollars!' %ninety)"
   ]
  },
  {
   "cell_type": "markdown",
   "metadata": {},
   "source": [
    "Also, during our data cleaning, we noted that Metro Bike Share cut their pricing on July 12, 2018. We should split the dataset on this date to get an accurate representation of the effect of fare on bike ridership and not intertwine the different pricing. To see the huge divide in our data set, lets plot fare vs duration (as bikers prior to the cut would pay more) without separating on price cut dates."
   ]
  },
  {
   "cell_type": "code",
   "execution_count": 66,
   "metadata": {
    "scrolled": true
   },
   "outputs": [
    {
     "data": {
      "image/png": "[encoded data removed]",
      "text/plain": [
       "<Figure size 432x288 with 1 Axes>"
      ]
     },
     "metadata": {},
     "output_type": "display_data"
    }
   ],
   "source": [
    "sns.scatterplot(x=bikes['duration'], y=bikes['estimated_fare']);"
   ]
  },
  {
   "cell_type": "markdown",
   "metadata": {},
   "source": [
    "We can clearly see the divide! Lets fix this all up."
   ]
  },
  {
   "cell_type": "code",
   "execution_count": 67,
   "metadata": {},
   "outputs": [],
   "source": [
    "bikes['start_time'] = pd.to_datetime(bikes['start_time'])\n",
    "\n",
    "# Data prior to price cut\n",
    "bikes_precut = bikes[(bikes['estimated_fare'] <= 29.75) & (bikes['start_time'] < '2018-07-12')]\n",
    "\n",
    "# Data after price cut\n",
    "bikes_postcut = bikes[(bikes['estimated_fare'] <= 29.75) & (bikes['start_time'] >= '2018-07-12')]"
   ]
  },
  {
   "cell_type": "markdown",
   "metadata": {},
   "source": [
    "Now we can continue our analysis!"
   ]
  },
  {
   "cell_type": "code",
   "execution_count": 68,
   "metadata": {},
   "outputs": [
    {
     "data": {
      "text/html": [
       "<div>\n",
       "<style scoped>\n",
       "    .dataframe tbody tr th:only-of-type {\n",
       "        vertical-align: middle;\n",
       "    }\n",
       "\n",
       "    .dataframe tbody tr th {\n",
       "        vertical-align: top;\n",
       "    }\n",
       "\n",
       "    .dataframe thead th {\n",
       "        text-align: right;\n",
       "    }\n",
       "</style>\n",
       "<table border=\"1\" class=\"dataframe\">\n",
       "  <thead>\n",
       "    <tr style=\"text-align: right;\">\n",
       "      <th></th>\n",
       "      <th>count</th>\n",
       "      <th>mean</th>\n",
       "      <th>std</th>\n",
       "      <th>min</th>\n",
       "      <th>25%</th>\n",
       "      <th>50%</th>\n",
       "      <th>75%</th>\n",
       "      <th>max</th>\n",
       "    </tr>\n",
       "  </thead>\n",
       "  <tbody>\n",
       "    <tr>\n",
       "      <th>Fare prior to price cuts</th>\n",
       "      <td>420327.0</td>\n",
       "      <td>3.463183</td>\n",
       "      <td>6.271276</td>\n",
       "      <td>0.0</td>\n",
       "      <td>0.0</td>\n",
       "      <td>0.0</td>\n",
       "      <td>3.5</td>\n",
       "      <td>29.75</td>\n",
       "    </tr>\n",
       "  </tbody>\n",
       "</table>\n",
       "</div>"
      ],
      "text/plain": [
       "                             count      mean       std  min  25%  50%  75%  \\\n",
       "Fare prior to price cuts  420327.0  3.463183  6.271276  0.0  0.0  0.0  3.5   \n",
       "\n",
       "                            max  \n",
       "Fare prior to price cuts  29.75  "
      ]
     },
     "metadata": {},
     "output_type": "display_data"
    },
    {
     "data": {
      "text/html": [
       "<div>\n",
       "<style scoped>\n",
       "    .dataframe tbody tr th:only-of-type {\n",
       "        vertical-align: middle;\n",
       "    }\n",
       "\n",
       "    .dataframe tbody tr th {\n",
       "        vertical-align: top;\n",
       "    }\n",
       "\n",
       "    .dataframe thead th {\n",
       "        text-align: right;\n",
       "    }\n",
       "</style>\n",
       "<table border=\"1\" class=\"dataframe\">\n",
       "  <thead>\n",
       "    <tr style=\"text-align: right;\">\n",
       "      <th></th>\n",
       "      <th>count</th>\n",
       "      <th>mean</th>\n",
       "      <th>std</th>\n",
       "      <th>min</th>\n",
       "      <th>25%</th>\n",
       "      <th>50%</th>\n",
       "      <th>75%</th>\n",
       "      <th>max</th>\n",
       "    </tr>\n",
       "  </thead>\n",
       "  <tbody>\n",
       "    <tr>\n",
       "      <th>Fare after price cuts</th>\n",
       "      <td>157858.0</td>\n",
       "      <td>1.806538</td>\n",
       "      <td>3.089287</td>\n",
       "      <td>0.0</td>\n",
       "      <td>0.0</td>\n",
       "      <td>0.0</td>\n",
       "      <td>1.75</td>\n",
       "      <td>29.75</td>\n",
       "    </tr>\n",
       "  </tbody>\n",
       "</table>\n",
       "</div>"
      ],
      "text/plain": [
       "                          count      mean       std  min  25%  50%   75%  \\\n",
       "Fare after price cuts  157858.0  1.806538  3.089287  0.0  0.0  0.0  1.75   \n",
       "\n",
       "                         max  \n",
       "Fare after price cuts  29.75  "
      ]
     },
     "metadata": {},
     "output_type": "display_data"
    },
    {
     "data": {
      "image/png": "[encoded data removed]",
      "text/plain": [
       "<Figure size 1080x288 with 2 Axes>"
      ]
     },
     "metadata": {},
     "output_type": "display_data"
    }
   ],
   "source": [
    "display(bikes_precut['estimated_fare'].rename('Fare prior to price cuts').to_frame().describe().T)\n",
    "display(bikes_postcut['estimated_fare'].rename('Fare after price cuts').to_frame().describe().T)\n",
    "\n",
    "# Plotting histograms of estimated fair\n",
    "fig, axes = plt.subplots(nrows=1, ncols=2, figsize=(15,4))\n",
    "\n",
    "sns.distplot(bikes_precut['estimated_fare'], ax=axes[0], kde=False)\n",
    "sns.distplot(bikes_postcut['estimated_fare'], ax=axes[1], kde=False)\n",
    "axes[0].set_title('Prior to price cuts')\n",
    "axes[1].set_title('After price cuts');"
   ]
  },
  {
   "cell_type": "markdown",
   "metadata": {},
   "source": [
    "We can see that these distrbutions/statistics have their similarities and differences. In terms of similarities, they both reveal a similar right skewed shape and adequately reflect their pricing. They each have the majority of the riders paying 0 (which are most likely members who rode under 30 minutes) and gaps depening on their pricing; gaps of 1.75 and 3.50 for pre-cuts and only gaps of 1.75 for post-cuts. The mean price spent prior to cuts is nearly double to that post-cuts!\n",
    "\n",
    "Lets see if bike ridership increased after price cuts."
   ]
  },
  {
   "cell_type": "code",
   "execution_count": 69,
   "metadata": {},
   "outputs": [
    {
     "data": {
      "image/png": "[encoded data removed]",
      "text/plain": [
       "<Figure size 1440x288 with 1 Axes>"
      ]
     },
     "metadata": {},
     "output_type": "display_data"
    }
   ],
   "source": [
    "cut = pd.to_datetime(['2018-07-11','2018-07-11'])\n",
    "\n",
    "# Plot history of trips and plot point of price cut\n",
    "bikes['start_time'].dt.date.value_counts().plot(figsize=(20, 4))\n",
    "plt.plot(cut, [0,2500], markersize=10, linewidth=2)\n",
    "plt.ylabel('Number of Trips')\n",
    "plt.xlabel('Date')\n",
    "plt.grid(alpha=.5);"
   ]
  },
  {
   "cell_type": "markdown",
   "metadata": {},
   "source": [
    "Activity prior to the cuts is the data prior to the orange line and after cuts is everything after. At first glance it seems quite obvious that the price cuts did little to help. However, taking a closer look at the yearly trends, we can see that around July bike ridership begins to decline and pick back up around January. Since these price cuts occured in July, bike ridership naturally began to fall. Lets delve in a little deeper."
   ]
  },
  {
   "cell_type": "code",
   "execution_count": 70,
   "metadata": {},
   "outputs": [
    {
     "name": "stdout",
     "output_type": "stream",
     "text": [
      "Prior to cut, we had 420327 trips in the span of 734 days. Averaging about 573.0 trips per day.\n",
      "After price cut, we had 157858 trips in the span of 172 days. Averaging about 918.0 trips per day.\n"
     ]
    }
   ],
   "source": [
    "# Calculating number and average of trips for each price period\n",
    "\n",
    "precut_trips = len(bikes_precut)\n",
    "precut_range = int((bikes_precut['start_time'].max() - fare_precut['start_time'].min()).days)\n",
    "\n",
    "postcut_trips = len(bikes_postcut)\n",
    "postcut_range = int((bikes_postcut['start_time'].max() - fare_postcut['start_time'].min()).days)\n",
    "\n",
    "print('Prior to cut, we had %s trips in the span of %s days.' % (precut_trips, precut_range), end=' ')\n",
    "print('Averaging about %s trips per day.' % (np.round(precut_trips/precut_range)))\n",
    "\n",
    "print('After price cut, we had %s trips in the span of %s days.' % (postcut_trips, postcut_range), end=' ')\n",
    "print('Averaging about %s trips per day.' % (np.round(postcut_trips/postcut_range)))"
   ]
  },
  {
   "cell_type": "markdown",
   "metadata": {},
   "source": [
    "Surprisingly, we see a huge increase in number of trips after the price cut! Average number of trips per day nearly doubled! Price thus far does seem like a big factor in bike ridership.\n",
    "\n",
    "Lets see if these price cuts also had an effect on the duration of bike usage."
   ]
  },
  {
   "cell_type": "code",
   "execution_count": 108,
   "metadata": {},
   "outputs": [
    {
     "data": {
      "image/png": "[encoded data removed]",
      "text/plain": [
       "<Figure size 432x288 with 1 Axes>"
      ]
     },
     "metadata": {},
     "output_type": "display_data"
    }
   ],
   "source": [
    "bikes_precut[bikes_precut['duration'] < 100]['duration'].rename('Pre-cut').plot(kind='kde', legend=True)\n",
    "bikes_postcut[bikes_postcut['duration'] < 100]['duration'].rename('Post-cut').plot(kind='kde', legend=True)\n",
    "plt.xlim(-2, 100)\n",
    "plt.xlabel('Duration');"
   ]
  },
  {
   "cell_type": "markdown",
   "metadata": {},
   "source": [
    "After price cuts, it appears that riders were indeed biking longer than those prior to cuts. We see the proportion of people biking around the 10 minute mark dropped (smaller proportion here) and the proportion after this increased. We can also see a clear divide at the 30 minute mark. After price cuts, people were more willing to pay the new and reduced $1.75 per 30 minute fee!\n",
    "\n",
    "Therefore, we can see that the price cuts indeed playing a large factor in increasing bike ridership in Los Angeles. Not only do we see a huge increase in the number of trips but people are also biking longer!\n",
    "\n",
    "Curiosity Question: Since more people are biking at a reduced price, has this ultimately benefited or hurt Metro Bike Share? Lets see how this has affected their revenue."
   ]
  },
  {
   "cell_type": "code",
   "execution_count": 125,
   "metadata": {},
   "outputs": [
    {
     "name": "stdout",
     "output_type": "stream",
     "text": [
      "Prior to cut, Metro Bike Share made 1455669.25 dollars in the span of 734 days. Therefore averaging a total of 1983.0 dollars a day!\n",
      "After price cut, Metro Bike Share made 285176.5 dollars in the span of 172 days. Therefore averaging a total of 1658.0 dollars a day!\n"
     ]
    }
   ],
   "source": [
    "precut_revenue = bikes_precut['estimated_fare'].sum()\n",
    "postcut_revenue = bikes_postcut['estimated_fare'].sum()\n",
    "\n",
    "precut_daily = precut_revenue / 734\n",
    "postcut_daily = postcut_revenue /172\n",
    "\n",
    "print('Prior to cut, Metro Bike Share made %s dollars in the span of %s days.' % (precut_revenue, precut_range), end = ' ')\n",
    "print('Therefore averaging a total of %s dollars a day!' % np.round(precut_daily))\n",
    "\n",
    "print('After price cut, Metro Bike Share made %s dollars in the span of %s days.' % (postcut_revenue, postcut_range), end = ' ')\n",
    "print('Therefore averaging a total of %s dollars a day!' % np.round(postcut_daily))"
   ]
  },
  {
   "cell_type": "markdown",
   "metadata": {},
   "source": [
    "We see that Metro Bike Share's revenue decreased from \\$1,983 to \\$1,658 a day. However, we should take a few things into consideration.\n",
    "1. We did not include the revenue generated from membership costs as we do not know whether each trip in the table is a unique member. Since the pricing of memberships dropped, as highlighted at the start of this notebook, we can expect more people are willing to purchase a membership which would generate Metro Bike Share more revenue.\n",
    "\n",
    "2. The data we have for the new pricing is during a time of the year that is not as popular (July-December 2018). We can expect the daily revenue to increase heading into summer 2019."
   ]
  },
  {
   "cell_type": "markdown",
   "metadata": {},
   "source": [
    "Overall, we can see these price cuts as a success. More people are biking, biking for longer durations, and is expected to not impact the revenue of the company. With the increased number of people biking, Metro Bike Share could generate more publicity and increase the success of the company and bike ridership in Los Angeles!"
   ]
  },
  {
   "cell_type": "code",
   "execution_count": null,
   "metadata": {},
   "outputs": [],
   "source": []
  }
 ],
 "metadata": {
  "kernelspec": {
   "display_name": "Python 3",
   "language": "python",
   "name": "python3"
  },
  "language_info": {
   "codemirror_mode": {
    "name": "ipython",
    "version": 3
   },
   "file_extension": ".py",
   "mimetype": "text/x-python",
   "name": "python",
   "nbconvert_exporter": "python",
   "pygments_lexer": "ipython3",
   "version": "3.6.8"
  }
 },
 "nbformat": 4,
 "nbformat_minor": 2
}
