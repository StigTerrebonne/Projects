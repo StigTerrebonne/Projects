{
 "cells": [
  {
   "cell_type": "code",
   "execution_count": 1,
   "metadata": {},
   "outputs": [],
   "source": [
    "import pandas as pd\n",
    "import numpy as np\n",
    "import matplotlib.pyplot as plt\n",
    "import seaborn as sns\n",
    "import os\n",
    "import glob\n",
    "import warnings\n",
    "warnings.filterwarnings('ignore')"
   ]
  },
  {
   "cell_type": "code",
   "execution_count": 4,
   "metadata": {},
   "outputs": [],
   "source": [
    "df = pd.read_csv('data/bike_clean.csv')"
   ]
  },
  {
   "cell_type": "code",
   "execution_count": 5,
   "metadata": {},
   "outputs": [
    {
     "data": {
      "text/html": [
       "<div>\n",
       "<style scoped>\n",
       "    .dataframe tbody tr th:only-of-type {\n",
       "        vertical-align: middle;\n",
       "    }\n",
       "\n",
       "    .dataframe tbody tr th {\n",
       "        vertical-align: top;\n",
       "    }\n",
       "\n",
       "    .dataframe thead th {\n",
       "        text-align: right;\n",
       "    }\n",
       "</style>\n",
       "<table border=\"1\" class=\"dataframe\">\n",
       "  <thead>\n",
       "    <tr style=\"text-align: right;\">\n",
       "      <th></th>\n",
       "      <th>Site</th>\n",
       "      <th>Date</th>\n",
       "      <th>Hour</th>\n",
       "      <th>Temperature</th>\n",
       "      <th>Dewpoint</th>\n",
       "      <th>RH</th>\n",
       "      <th>WindDir</th>\n",
       "      <th>Windspeed</th>\n",
       "      <th>CldFrac</th>\n",
       "      <th>MSLP</th>\n",
       "      <th>Weather</th>\n",
       "      <th>Precip</th>\n",
       "      <th>Source</th>\n",
       "    </tr>\n",
       "  </thead>\n",
       "  <tbody>\n",
       "    <tr>\n",
       "      <th>0</th>\n",
       "      <td>KLAX</td>\n",
       "      <td>1/1/1998 0:00:00</td>\n",
       "      <td>1</td>\n",
       "      <td>58</td>\n",
       "      <td>52</td>\n",
       "      <td>81</td>\n",
       "      <td>NaN</td>\n",
       "      <td>0</td>\n",
       "      <td>0.4</td>\n",
       "      <td>NaN</td>\n",
       "      <td>SCT</td>\n",
       "      <td>NaN</td>\n",
       "      <td>NCDC</td>\n",
       "    </tr>\n",
       "    <tr>\n",
       "      <th>1</th>\n",
       "      <td>KLAX</td>\n",
       "      <td>1/1/1998 0:00:00</td>\n",
       "      <td>2</td>\n",
       "      <td>55</td>\n",
       "      <td>52</td>\n",
       "      <td>90</td>\n",
       "      <td>NaN</td>\n",
       "      <td>6</td>\n",
       "      <td>0.0</td>\n",
       "      <td>NaN</td>\n",
       "      <td>CLR</td>\n",
       "      <td>NaN</td>\n",
       "      <td>NCDC</td>\n",
       "    </tr>\n",
       "    <tr>\n",
       "      <th>2</th>\n",
       "      <td>KLAX</td>\n",
       "      <td>1/1/1998 0:00:00</td>\n",
       "      <td>3</td>\n",
       "      <td>56</td>\n",
       "      <td>51</td>\n",
       "      <td>84</td>\n",
       "      <td>NaN</td>\n",
       "      <td>0</td>\n",
       "      <td>0.7</td>\n",
       "      <td>NaN</td>\n",
       "      <td>HZ</td>\n",
       "      <td>NaN</td>\n",
       "      <td>NCDC</td>\n",
       "    </tr>\n",
       "    <tr>\n",
       "      <th>3</th>\n",
       "      <td>KLAX</td>\n",
       "      <td>1/1/1998 0:00:00</td>\n",
       "      <td>4</td>\n",
       "      <td>54</td>\n",
       "      <td>50</td>\n",
       "      <td>87</td>\n",
       "      <td>NaN</td>\n",
       "      <td>3</td>\n",
       "      <td>0.0</td>\n",
       "      <td>NaN</td>\n",
       "      <td>CLR</td>\n",
       "      <td>NaN</td>\n",
       "      <td>NCDC</td>\n",
       "    </tr>\n",
       "    <tr>\n",
       "      <th>4</th>\n",
       "      <td>KLAX</td>\n",
       "      <td>1/1/1998 0:00:00</td>\n",
       "      <td>5</td>\n",
       "      <td>54</td>\n",
       "      <td>49</td>\n",
       "      <td>83</td>\n",
       "      <td>NaN</td>\n",
       "      <td>5</td>\n",
       "      <td>0.0</td>\n",
       "      <td>NaN</td>\n",
       "      <td>HZ</td>\n",
       "      <td>NaN</td>\n",
       "      <td>NCDC</td>\n",
       "    </tr>\n",
       "  </tbody>\n",
       "</table>\n",
       "</div>"
      ],
      "text/plain": [
       "   Site              Date  Hour  Temperature  Dewpoint  RH WindDir  Windspeed  \\\n",
       "0  KLAX  1/1/1998 0:00:00     1           58        52  81     NaN          0   \n",
       "1  KLAX  1/1/1998 0:00:00     2           55        52  90     NaN          6   \n",
       "2  KLAX  1/1/1998 0:00:00     3           56        51  84     NaN          0   \n",
       "3  KLAX  1/1/1998 0:00:00     4           54        50  87     NaN          3   \n",
       "4  KLAX  1/1/1998 0:00:00     5           54        49  83     NaN          5   \n",
       "\n",
       "   CldFrac  MSLP Weather  Precip Source  \n",
       "0      0.4   NaN     SCT     NaN   NCDC  \n",
       "1      0.0   NaN     CLR     NaN   NCDC  \n",
       "2      0.7   NaN      HZ     NaN   NCDC  \n",
       "3      0.0   NaN     CLR     NaN   NCDC  \n",
       "4      0.0   NaN      HZ     NaN   NCDC  "
      ]
     },
     "execution_count": 5,
     "metadata": {},
     "output_type": "execute_result"
    }
   ],
   "source": [
    "df.head()"
   ]
  },
  {
   "cell_type": "code",
   "execution_count": 6,
   "metadata": {},
   "outputs": [
    {
     "name": "stdout",
     "output_type": "stream",
     "text": [
      "<class 'pandas.core.frame.DataFrame'>\n",
      "RangeIndex: 184823 entries, 0 to 184822\n",
      "Data columns (total 13 columns):\n",
      "Site           184823 non-null object\n",
      "Date           184823 non-null object\n",
      "Hour           184823 non-null int64\n",
      "Temperature    184823 non-null int64\n",
      "Dewpoint       184823 non-null int64\n",
      "RH             184823 non-null int64\n",
      "WindDir        132240 non-null object\n",
      "Windspeed      184823 non-null int64\n",
      "CldFrac        184819 non-null float64\n",
      "MSLP           132240 non-null float64\n",
      "Weather        184819 non-null object\n",
      "Precip         174017 non-null float64\n",
      "Source         184823 non-null object\n",
      "dtypes: float64(3), int64(5), object(5)\n",
      "memory usage: 18.3+ MB\n"
     ]
    }
   ],
   "source": [
    "df.info()"
   ]
  },
  {
   "cell_type": "markdown",
   "metadata": {},
   "source": [
    "## Make sure you comment out your work! Explain What you are doing"
   ]
  },
  {
   "cell_type": "markdown",
   "metadata": {},
   "source": [
    "#### Plotting duration as a histogram, then scatter plot of duration Vs. temp and duration Vs. windspeed\n",
    "#### Then attempt to fit a single regression to windspeed and duration (potentially predict bike ridership) "
   ]
  },
  {
   "cell_type": "code",
   "execution_count": null,
   "metadata": {},
   "outputs": [],
   "source": [
    "df['duration'].plot.hist(bins=25)\n",
    "df.plot.scatter(x='duration',y='temperature')\n",
    "df.plot.scatter(x='duration',y='windspeed')\n",
    "\n",
    "a1,b1 = np.polyfit(df['windspeed'], df['duration'], 1)\n",
    "windspeed_array = np.arange(18, 81, dtype=np.int)\n",
    "pred_duration = windspeed_array * a1 + b1"
   ]
  }
 ],
 "metadata": {
  "kernelspec": {
   "display_name": "Python 3",
   "language": "python",
   "name": "python3"
  },
  "language_info": {
   "codemirror_mode": {
    "name": "ipython",
    "version": 3
   },
   "file_extension": ".py",
   "mimetype": "text/x-python",
   "name": "python",
   "nbconvert_exporter": "python",
   "pygments_lexer": "ipython3",
   "version": "3.6.8"
  }
 },
 "nbformat": 4,
 "nbformat_minor": 2
}
