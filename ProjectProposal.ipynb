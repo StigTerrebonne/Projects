{
 "cells": [
  {
   "cell_type": "markdown",
   "metadata": {},
   "source": [
    "# COGS 108 - Project Proposal"
   ]
  },
  {
   "cell_type": "markdown",
   "metadata": {},
   "source": [
    "## Important\n",
    "\n",
    "- Make sure all group members (3-6 people) are listed in the group members section.\n",
    "- ONE, and only one, member of your group should upload this notebook to TritonED. \n",
    "- Each member of the group will receive the same grade on this assignment. \n",
    "- Keep the file name the same: submit the file 'ProjectProposal.ipynb'"
   ]
  },
  {
   "cell_type": "markdown",
   "metadata": {},
   "source": [
    "# Overview"
   ]
  },
  {
   "cell_type": "markdown",
   "metadata": {},
   "source": [
    "### Group Members:\n",
    "\n",
    "- Stig Terrebonne A14170318\n",
    "- Samar Al-Haqab A99118399\n",
    "- Johnny Lam A13522461\n",
    "- Nathan Colmenero A10320811\n",
    "- Enrique Sanchez A14136639\n",
    "- Trevor Flores A13311512"
   ]
  },
  {
   "cell_type": "markdown",
   "metadata": {},
   "source": [
    "### Research Question"
   ]
  },
  {
   "cell_type": "markdown",
   "metadata": {},
   "source": [
    "Does biking have an impact on communities in LA?"
   ]
  },
  {
   "cell_type": "markdown",
   "metadata": {},
   "source": [
    "### Hypothesis"
   ]
  },
  {
   "cell_type": "markdown",
   "metadata": {},
   "source": [
    "We predict that biking is becoming ever more popular and is aiding in the transformation of public space in Los Angeles. This transformation is characterized by healthier lifestyles, better safety, and an increase in home cost throughout the region. We think that there will be a strong correlation between bike usage and these factors.   "
   ]
  },
  {
   "cell_type": "markdown",
   "metadata": {},
   "source": [
    "### Dataset(s)"
   ]
  },
  {
   "cell_type": "markdown",
   "metadata": {},
   "source": [
    "#### Metro Bike Share Data   \n",
    "Link to the dataset: https://bikeshare.metro.net/about/data/    \n",
    "Number of observations: ~640,000    \n",
    "Description: This data set is provided by Metro Bike Share, a company partnered with the city of Los Angeles, that provides locals with 24/7 access to about 1,400 bikes! This data set spans from July 2016 through December 2018 and includes fields such as bike use duration, route types, and the times/dates of use.\n",
    "\n",
    "#### Traffic Collision Data from 2010 to Present  \n",
    "Link to the dataset: https://catalog.data.gov/dataset/traffic-collision-data-from-2010-to-present  \n",
    "Number of observations: 457,000  \n",
    "Description: This data set provides traffic collision information from 2010-present in Los Angeles. It gives the dates, types of collisions, and victim information for ever collision that occurred. The data set notes that it is as accurate as the data in its database but may have some ‘inaccuracies’ due to it being typed on paper (mishandling).\n",
    "\n",
    "#### Traffic Count Data  \n",
    "Link to the dataset: https://data.lacounty.gov/Transportation/Traffic-Count-Data/uvew-g569  \n",
    "Number of observations: 24,308  \n",
    "Description: This data set provides traffic counts for unincorporated areas of Los Angeles. It gives information like traffic location, traffic counts, and the dates of these measurements. "
   ]
  },
  {
   "cell_type": "markdown",
   "metadata": {},
   "source": [
    "#### Combining Data Sets\n",
    "\n",
    "Although these data sets appear quite different, we plan to combine these data sets on the date column. Due to the fact that some data sets have observations from later dates (2010-Present), we will not be able to combine the data sets entirely. However, we can use these later dates as a method of making comparisons to more recent times when analyzing the data."
   ]
  },
  {
   "cell_type": "markdown",
   "metadata": {},
   "source": [
    "### Background and Prior Work"
   ]
  },
  {
   "cell_type": "markdown",
   "metadata": {},
   "source": [
    "In countless cities like Los Angeles, San Diego, and New York, forms of alternative transportation are becoming more popular. These include but are not limited to: public transportation, car ride services, biking, and even walking. The quality of life in a community can be linked to how easy it is for people to get to work and access resources like grocery stores and other public spaces. In a community like Los Angeles, having a car makes it more convenient to achieve these things, however, with the rate of increasing traffic this form of transportation now traps people on the road and in their cars for longer amounts of time. In Los Angeles especially, INRIX (a traffic analytic leader) reported that drivers spent about 102 hours stuck in traffic in 2017. To mediate this problem, many people are turning to bicycling which leads us to our question and hypothesis. How is bicycling, an increasingly popular form of transportation, affecting and transforming the Los Angeles community?\n",
    "\n",
    "There are multiple benefits for cycling, but there is one important issue to address: safety. How is Los Angeles treating their fellow cyclists in terms of bicycle infrastructure and accommodation? Vision Zero, a Los Angeles based project, is an initiative to reduce amounts of traffic crashes to increase pedestrian and cyclist safety. To do this, they’ve partnered with LADOT to gather data on crash statistics to then install improvements to make certain streets safer. This is important because these initiatives plan their budget according to safety demands. The Los Angeles County Bicycle Association (LACBC) is another organization partnered with Vision Zero to account for their cyclists. LACBC gathers data on bicycle and pedestrian to provide cities with guidance on where improvements are most needed. The study, “Impacts of Bicycle Infrastructure in Mid-Sized Cities (IBIMS): protocol for a natural experiment study in three Canadian cities” explores the impacts of bicycle networks in three cities. These impacts include changes in active travel, safety incidents, spatial inequities, and health-related benefits. Vision Zero, LACBC, IBIMS provided information that led to our hypothesis. These utilized a similar structure to our analysis goal, so they will be referenced for guidance. However, we are hoping to provide a more conclusive analysis to how cycling truly affects a community. \n",
    "\n",
    "References (include links):\n",
    "- 1) http://visionzero.lacity.org/projects/\n",
    "- 2) https://la-bike.org/our-work/bike-ped-count/\n",
    "- 3) https://www.ncbi.nlm.nih.gov/pmc/articles/PMC5781157/"
   ]
  },
  {
   "cell_type": "markdown",
   "metadata": {},
   "source": [
    "### Proposed Methods"
   ]
  },
  {
   "cell_type": "markdown",
   "metadata": {},
   "source": [
    "### Data Cleaning\n",
    "As our data currently sits, it is scattered across various data sets. For example, our main data set, metro bike share data, is dispersed among 10 data sets divided between quarters of a year; we will need to concatenate these data sets. We will also need to correctly care for missing values, check the validity of the observations (are they faithful?), and remove any other obscurities. Given that our data set is so large, we expect to run into some unforeseen problems that require further cleaning. We will also need to merge our datasets on dates so that we can explore possible connections. \n",
    "\n",
    "### Data Analysis \n",
    "\n",
    "Before we can analyze our data efficiently, we will have to work on cleaning and merging our different datasets (number of bikers, traffic collisions, traffic count, etc) according to their dates using Pandas and Numpy (as described above). Since most of our data is quantitative, we will start off by viewing the distributions of our variables (Matplotlib/Seaborn). From this, we will be able to see some interesting trends or possibly some faulty aspect of our data (such as 999 for patients as described in lecture). After getting a good feel for our data, we will try to look for correlations and draw connections based on the time of day and day of the week most people bike, when traffic is the heaviest, and what time of day most traffic collisions occur (Scipy). For example, we could check how heavy traffic was for a specific date and compare it to the number of bikers that same day and see if there is a significant connection. Additionally, we will use our data to make graphs and charts that show how different factors change overtime (scatter plots etc.). This will give a visual representation that we can use to further analyze our data.\n",
    "\n",
    "Given that our data sets are so diverse and can be used to answer many interesting questions, we expect to delve deeper into various different paths of exploration. As we have not yet fully undertook the data, we cannot yet predict where the majority of analysis will be spent. However, that is what is exciting about data analysis!\n",
    "\n",
    "### What to report \n",
    "As a team, we want to report the impact biking has had on communities in Los Angeles. Whether it be through helping minimize traffic, lowering traffic collisions, or simply promoting healthier lifestyles. Although we can’t infer causality from observational data sets, we hope to find some strong connections that can showcase the importance of developing biker-friendly communities across the United States. We hope to provide some concrete visualizations that highlight our major findings, the significance of our tests, or even some interesting models that accurately predict different outcomes.\n",
    "\n",
    "\n",
    "Packages we plan to use:\n",
    "- Numpy\n",
    "- Pandas\n",
    "- Scipy \n",
    "- Matplotlib\n",
    "- Seaborn\n",
    "- Folium - Used to plot geographical data on maps\n",
    "- Scikit-learn - Machine learning\n"
   ]
  },
  {
   "cell_type": "markdown",
   "metadata": {},
   "source": [
    "### Ethics and Privacy\n",
    "\n",
    " It is recommended (and our intent) not to abuse or use the information in a malicious way that could hurt an individual or groups of individuals, whether physically or financially. That being said, these datasets are open source and can be viewed and used by the general public to conduct studies and/or research. While there doesn’t seem to be any information in the data that would be an immediate red flag such as names, or information relating to specific individuals, there could be potential problems with location(s) or source of location(s) of the bikes being ridden. This could include military locations or other government facilities that aren’t necessarily known to the general public and would potentially pose a threat if such information were in the wrong hands. As for biases towards a particular population, we can possibly see a trend towards more bike usage in affluent areas of the greater Los Angeles area, which also includes the downtown and industrial areas. As for handling of each of the individual problems that may arise from our datasets, we would treat each one differently. For location, we would likely have to scrap areas that showed high usage if near or on a government facility (such as a military base), but not something like a social security or HHSA office that would be deemed less of a potential threat. For biases in trends towards certain areas based on income, we may need to change or slightly alter our research question to include all areas within Los Angeles even if those areas see very minimal bike usage compared to others.\n"
   ]
  },
  {
   "cell_type": "markdown",
   "metadata": {},
   "source": [
    "### Discussion\n",
    "\n",
    "We are predicting to see a direct correlation between bikes and safer neighborhoods.  The results of our analysis could support or refute our hypothesis in many capacities, and will most likely not have a full support or refute.  For example, we may see a direct correlation between bike lanes and rental prices, but also a correlation between those same bike lanes and the crashes.  In fact, actually quantifying a community can be a hard task unto itself.  Besides this, if bikes do have a significant effect on communities in LA, this may help a lot of people.  This may help city planners in decided where to put bike lanes or organize a space.  This may impact the industry of bikes, in creating a need that manufacturers may need to meet.  This comes in the form of stronger bikes, or better lights.  Lastly, this study could help change the health of people.  If we find positive and community uplifting factors in our analysis, this may be a potent weapon in helping people become their best selves.  \n",
    "\n",
    "On the other hand, all of our analysis could totally refute our hypothesis.  This would mean that bicycles have no impact on communities.  This would be an interesting finding because it would give people and researchers a closer look at what really makes interaction or public space work.  The finding could apply to other domains such as scooters or other small mobility technologies.  We would do our best to structure our finding in a way that could help people, even if our hypothesis is disproved.  We would also take time to look over and revise our predictions.  If our methods are incorrect in the end, we will be completely honest with the pitfalls and misinterpreted information.  We will be honest with our findings and even more honest with sharing.  We will use the mishap to correct our process and future work.  Not meeting our prediction will not only provide an opportunity to learn, but to show others what impacts we actually found.  \n",
    "\n",
    "Our data processes a few pitfalls which are important to understand.  When we analyze crash data with bike lanes, it will be important to consider the complex situation that could create this situation.  There could factors such as, pedestrians, size of streets, signs blocking view, location of sun, and many others that play a part.  Correlation is not causation: we have to be careful when comparing two data sets.  Another pitfall that is important is the amount of bike crashes that go undocumented.  There is a lot of data that may be missing, so it will be important to not make sweeping assumptions about our results.  Lastly, we may run into physical with wrangling multiple government datasets together.  It may be confusing to pull together and analyze large data sets with similar dates, locations, and other features.  We hope to be honest with our results and humble when overcoming the problems we may run into. \n"
   ]
  },
  {
   "cell_type": "code",
   "execution_count": null,
   "metadata": {},
   "outputs": [],
   "source": []
  }
 ],
 "metadata": {
  "kernelspec": {
   "display_name": "Python 3",
   "language": "python",
   "name": "python3"
  },
  "language_info": {
   "codemirror_mode": {
    "name": "ipython",
    "version": 3
   },
   "file_extension": ".py",
   "mimetype": "text/x-python",
   "name": "python",
   "nbconvert_exporter": "python",
   "pygments_lexer": "ipython3",
   "version": "3.6.8"
  }
 },
 "nbformat": 4,
 "nbformat_minor": 2
}
