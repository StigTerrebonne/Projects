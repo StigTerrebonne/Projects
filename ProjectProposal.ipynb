{
 "cells": [
  {
   "cell_type": "markdown",
   "metadata": {},
   "source": [
    "# COGS 108 - Project Proposal"
   ]
  },
  {
   "cell_type": "markdown",
   "metadata": {},
   "source": [
    "## Important\n",
    "\n",
    "- Make sure all group members (3-6 people) are listed in the group members section.\n",
    "- ONE, and only one, member of your group should upload this notebook to TritonED. \n",
    "- Each member of the group will receive the same grade on this assignment. \n",
    "- Keep the file name the same: submit the file 'ProjectProposal.ipynb'"
   ]
  },
  {
   "cell_type": "markdown",
   "metadata": {},
   "source": [
    "## Overview"
   ]
  },
  {
   "cell_type": "markdown",
   "metadata": {},
   "source": [
    "Read the project description and detailed instructions for this assignment in the 'ProjectOutline' document."
   ]
  },
  {
   "cell_type": "markdown",
   "metadata": {},
   "source": [
    "## Group Members: Fill in the Student IDs of each group member here\n",
    "\n",
    "Replace the lines below to list each persons full student ID. Add lines as needed for your group size, and make sure each ID is listed on a separate line. \n",
    "\n",
    "- A14170318\n",
    "- A99118399\n",
    "- A13522461\n",
    "- A10320811\n",
    "- A14136639"
   ]
  },
  {
   "cell_type": "markdown",
   "metadata": {},
   "source": [
    "### Research Question"
   ]
  },
  {
   "cell_type": "markdown",
   "metadata": {},
   "source": [
    "Does biking have an impact on communities in LA?"
   ]
  },
  {
   "cell_type": "markdown",
   "metadata": {},
   "source": [
    "### Hypothesis"
   ]
  },
  {
   "cell_type": "markdown",
   "metadata": {},
   "source": [
    "We predict that biking is becoming ever more popular and is aiding in the tranformation of public space in Los Angeles.  This transformationWe predict that biking is becoming ever more popular and is aiding in the transformation of public space in Los Angeles. This transformation is characterized by healthier lifestyles, better safety, and increase in home cost throughout the region. We think that there will be a direct correlation between bike usage and these factors. is characterized by healthier lifestyles, more interactions, better safety, and economies around the bike industry or locations.  We think that there will be a direct correlation between bike usage and these factors.    "
   ]
  },
  {
   "cell_type": "markdown",
   "metadata": {},
   "source": [
    "### Dataset(s)\n",
    "\n",
    "What data will you use to answer your question? Describe the dataset(s) in terms of number of observations, what kind of features it contains, etc. You must use at least one dataset containing at least approximately 1000 observations (if your data are smaller but you feel they are sufficient, email Prof. Voytek). You are welcome (and in fact recommended) to find multiple datasets! If you do so, describe each one, and briefly explain how you will combine them together. "
   ]
  },
  {
   "cell_type": "markdown",
   "metadata": {},
   "source": [
    "*Fill in your dataset information here*\n",
    "\n",
    "(Copy this information for each dataset)\n",
    "- Dataset Name:\n",
    "- Link to the dataset:\n",
    "- Number of observations:\n",
    "\n",
    "1-2 sentences describing the dataset. \n",
    "\n",
    "If you plan to use multiple datasets, add 1-2 sentences about how you plan to combine these datasets.\n",
    "\n",
    "### Data Set Name: \n",
    "Metro Bike Share Data   \n",
    "Link to the dataset: https://bikeshare.metro.net/about/data/    \n",
    "Number of observations: ~640,000    \n",
    "Description: This data set is provided by Metro Bike Share, a company partnered with the city of Los Angeles, who provides locals with 24/7 access to about 1,400 bikes! This data set spans from July 2016 through December 2018 and includes fields such as bike use duration, route types, and exact times of usage."
   ]
  },
  {
   "cell_type": "markdown",
   "metadata": {},
   "source": [
    "### Background and Prior Work\n",
    "\n",
    "Why is this question of interest, what background information led you to your hypothesis, and why is this important?\n",
    "\n",
    "Find some relevant prior work, and reference those sources. Even if you think you have a totally novel question, find the most similar prior work that you can and discuss how it relates to your project. \n",
    "\n",
    "References can be research publications, but they need not be. Blogs, github repositories, company websites, etc., are all viable references if they are relevant to your project.\n",
    "\n",
    "(2-3 paragraphs, including at least 2 references)"
   ]
  },
  {
   "cell_type": "markdown",
   "metadata": {},
   "source": [
    "*Fill in your background and prior work here* \n",
    "\n",
    "References (include links):\n",
    "- 1)\n",
    "- 2)"
   ]
  },
  {
   "cell_type": "markdown",
   "metadata": {},
   "source": [
    "### Proposed Methods\n",
    "\n",
    "What methods will you use to analyze your data?\n",
    "\n",
    "- How 'clean' is the data? To the extent that it requires cleaning, how will you do so?\n",
    "- How will you analyze the data? Be as specific as you can. Briefly mention any pre-processing steps that are required for your methods (for example, checking data distributions and performing any transformations that may be required). Include a brief outline of how you will apply your chosen method(s). \n",
    "- What do you plan to report? Briefly mention any key visualizations you plan to create, and/or the kind of results you will be able to report that address your question (this could be, for example, the outcome of some statistical test(s), prediction error on a model, a model fit parameter, etc.).\n",
    "- Include a list of packages you expect to use for you project. If you plan to use packages we have not used in class, add a very brief description about them (a few words is sufficient). "
   ]
  },
  {
   "cell_type": "markdown",
   "metadata": {},
   "source": [
    "*Fill in your proposed methods information here:*\n",
    "\n",
    "*Data Cleaning (2-3 sentences)*\n",
    "\n",
    "*Data Analysis (1-2 paragraphs)*\n",
    "\n",
    "*What to report (2-3 sentences)*\n",
    "\n",
    "Packages we plan to use:\n",
    "- a\n",
    "- b"
   ]
  },
  {
   "cell_type": "markdown",
   "metadata": {},
   "source": [
    "### Ethics and Privacy\n",
    "\n",
    " It is recommended (and our intent) not to abuse or use the information in a malicious way that could hurt an individual or groups of individuals, whether physically or financially. That being said, these datasets are open source and can be viewed and used by the general public to conduct studies and/or research. While there doesn’t seem to be any information in the data that would be an immediate red flag such as names, or information relating to specific individuals, there could be potential problems with location(s) or source of location(s) of the bikes being ridden. This could include military locations or other government facilities that aren’t necessarily known to the general public and would potentially pose a threat if such information were in the wrong hands. As for biases towards a particular population, we can possibly see a trend towards more bike usage in affluent areas of the greater Los Angeles area, which also includes the downtown and industrial areas. As for handling of each of the individual problems that may arise from our datasets, we would treat each one differently. For location, we would likely have to scrap areas that showed high usage if near or on a government facility (such as a military base), but not something like a social security or HHSA office that would be deemed less of a potential threat. For biases in trends towards certain areas based on income, we may need to change or slightly alter our research question to include all areas within Los Angeles even if those areas see very minimal bike usage compared to others.\n"
   ]
  },
  {
   "cell_type": "markdown",
   "metadata": {},
   "source": [
    "### Discussion\n",
    "\n",
    "We are predicting to see a direct correlation between bikes and safer neighborhoods.  The results of our analysis could support or refute our hypothesis in many capacities, and will most likely not have a full support or refute.  For example, we may see a direct correlation between bike lanes and rental prices, but also a correlation between those same bike lanes and the crashes.  In fact, actually quantifying a community can be a hard task unto itself.  Besides this, if bikes do have a significant effect on communities in LA, this may help a lot of people.  This may help city planners in decided where to put bike lanes or organize a space.  This may impact the industry of bikes, in creating a need that manufacturers may need to meet.  This comes in the form of stronger bikes, or better lights.  Lastly, this study could help change the health of people.  If we find positive and community uplifting factors in our analysis, this may be a potent weapon in helping people become their best selves.  \n",
    "\n",
    "On the other hand, all of our analysis could totally refute our hypothesis.  This would mean that bicycles have no impact on communities.  This would be an interesting finding because it would give people and researchers a closer look at what really makes interaction or public space work.  The finding could apply to other domains such as scooters or other small mobility technologies.  We would do our best to structure our finding in a way that could help people, even if our hypothesis is disproved.  We would also take time to look over and revise our predictions.  If our methods are incorrect in the end, we will be completely honest with the pitfalls and misinterpreted information.  We will be honest with our findings and even more honest with sharing.  We will use the mishap to correct our process and future work.  Not meeting our prediction will not only provide an opportunity to learn, but to show others what impacts we actually found.  \n",
    "\n",
    "Our data processes a few pitfalls which are important to understand.  When we analyze crash data with bike lanes, it will be important to consider the complex situation that could create this situation.  There could factors such as, pedestrians, size of streets, signs blocking view, location of sun, and many others that play a part.  Correlation is not causation: we have to be careful when comparing two data sets.  Another pitfall that is important is the amount of bike crashes that go undocumented.  There is a lot of data that may be missing, so it will be important to not make sweeping assumptions about our results.  Lastly, we may run into physical with wrangling multiple government datasets together.  It may be confusing to pull together and analyze large data sets with similar dates, locations, and other features.  We hope to be honest with our results and humble when overcoming the problems we may run into. \n"
   ]
  },
  {
   "cell_type": "code",
   "execution_count": null,
   "metadata": {},
   "outputs": [],
   "source": []
  }
 ],
 "metadata": {
  "kernelspec": {
   "display_name": "Python 3",
   "language": "python",
   "name": "python3"
  },
  "language_info": {
   "codemirror_mode": {
    "name": "ipython",
    "version": 3
   },
   "file_extension": ".py",
   "mimetype": "text/x-python",
   "name": "python",
   "nbconvert_exporter": "python",
   "pygments_lexer": "ipython3",
   "version": "3.6.8"
  }
 },
 "nbformat": 4,
 "nbformat_minor": 2
}
