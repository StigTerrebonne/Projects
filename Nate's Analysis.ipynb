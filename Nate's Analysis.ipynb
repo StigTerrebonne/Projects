{
 "cells": [
  {
   "cell_type": "markdown",
   "metadata": {},
   "source": [
    "How long do people ride the bikes? Avg,max,min, etc...\n",
    "What days of the week do people ride?"
   ]
  },
  {
   "cell_type": "code",
   "execution_count": 1,
   "metadata": {},
   "outputs": [],
   "source": [
    "import pandas as pd\n",
    "import numpy as np\n",
    "import matplotlib.pyplot as plt\n",
    "import seaborn as sns\n",
    "import os\n",
    "import glob\n",
    "import warnings\n",
    "warnings.filterwarnings('ignore')"
   ]
  },
  {
   "cell_type": "code",
   "execution_count": 2,
   "metadata": {},
   "outputs": [],
   "source": [
    "data = pd.read_csv('bike_clean.csv')"
   ]
  },
  {
   "cell_type": "code",
   "execution_count": 3,
   "metadata": {},
   "outputs": [],
   "source": [
    "#data"
   ]
  },
  {
   "cell_type": "markdown",
   "metadata": {},
   "source": [
    "First we must find the max, min and average of the rider duration on the bike"
   ]
  },
  {
   "cell_type": "code",
   "execution_count": 4,
   "metadata": {},
   "outputs": [
    {
     "name": "stdout",
     "output_type": "stream",
     "text": [
      "min = 1.0\n",
      "max = 1440.0\n",
      "mean = 135.8815963462783\n",
      "median = 15.0\n"
     ]
    }
   ],
   "source": [
    "a = data.min()\n",
    "b = data.max()\n",
    "print('min =', a['duration'])\n",
    "print('max =', b['duration'])\n",
    "print('mean =', data['duration'].mean())\n",
    "print('median =', data['duration'].median())"
   ]
  },
  {
   "cell_type": "markdown",
   "metadata": {},
   "source": [
    "We can see the max is 1440 minutes (24 hours) and the min is 1 minute. The average duration is 135.88 minutes, but if we look at the median, we see a much lower number of 15 minutes only. This can be because people probably used the bike within the first 30 minute free trial period and didn't need the bike because they were close to their destination. So even though the average bike rider can ride for 135 minutes (2.25 hours), it's safer to say the median is a more realistic duration of what a rider bikes in Los Angeles."
   ]
  },
  {
   "cell_type": "markdown",
   "metadata": {},
   "source": [
    "Now we see the days of the week in which riders used bikes."
   ]
  },
  {
   "cell_type": "code",
   "execution_count": 5,
   "metadata": {},
   "outputs": [],
   "source": [
    "data['Day'] = pd.to_datetime(data['start_time'])\n",
    "data['Day'] = data['Day'].dt.dayofweek\n",
    "#data['Day']"
   ]
  },
  {
   "cell_type": "markdown",
   "metadata": {},
   "source": [
    "Once we have the days of the week, we can now perform a histogram to show which days riders rode more on."
   ]
  },
  {
   "cell_type": "code",
   "execution_count": 6,
   "metadata": {},
   "outputs": [
    {
     "data": {
      "text/plain": [
       "{4: 96028, 3: 92836, 1: 92289, 2: 91543, 5: 90538, 6: 89007, 0: 87545}"
      ]
     },
     "execution_count": 6,
     "metadata": {},
     "output_type": "execute_result"
    },
    {
     "data": {
      "image/png": "[encoded data removed]",
      "text/plain": [
       "<Figure size 432x288 with 1 Axes>"
      ]
     },
     "metadata": {},
     "output_type": "display_data"
    }
   ],
   "source": [
    "data.hist(column='Day', bins=15)\n",
    "plt.xlabel('Day of the Week')\n",
    "plt.ylabel('# of Rides')\n",
    "counts = data['Day'].value_counts().to_dict()\n",
    "counts"
   ]
  },
  {
   "cell_type": "markdown",
   "metadata": {},
   "source": [
    "From the counts on the histogram, we can take them and get the percentage of riders using bikes on certain days of the weeks."
   ]
  },
  {
   "cell_type": "code",
   "execution_count": 7,
   "metadata": {},
   "outputs": [
    {
     "name": "stdout",
     "output_type": "stream",
     "text": [
      "13.68348166418146\n",
      "14.424979602554606\n",
      "14.308378113931846\n",
      "14.510476940727054\n",
      "15.00939376604052\n",
      "14.151294339044618\n",
      "13.911995573519894\n"
     ]
    }
   ],
   "source": [
    "mon_percent = (87545/len(data['Day']))*100\n",
    "tue_percent = (92289/len(data['Day']))*100\n",
    "wed_percent = (91543/len(data['Day']))*100\n",
    "thur_percent = (92836/len(data['Day']))*100\n",
    "fri_percent = (96028/len(data['Day']))*100\n",
    "sat_percent = (90538/len(data['Day']))*100\n",
    "sun_percent = (89007/len(data['Day']))*100\n",
    "print(mon_percent)\n",
    "print(tue_percent)\n",
    "print(wed_percent)\n",
    "print(thur_percent)\n",
    "print(fri_percent)\n",
    "print(sat_percent)\n",
    "print(sun_percent)"
   ]
  },
  {
   "cell_type": "markdown",
   "metadata": {},
   "source": [
    "As we can see from looking at the histogram and now the percentages, bike usage was fairly equal across all days of the week. Friday had the slight increase, probably due to more people going out in the evening and taking a day off for a long 3 day weekend."
   ]
  },
  {
   "cell_type": "code",
   "execution_count": null,
   "metadata": {},
   "outputs": [],
   "source": []
  }
 ],
 "metadata": {
  "kernelspec": {
   "display_name": "Python 3",
   "language": "python",
   "name": "python3"
  },
  "language_info": {
   "codemirror_mode": {
    "name": "ipython",
    "version": 3
   },
   "file_extension": ".py",
   "mimetype": "text/x-python",
   "name": "python",
   "nbconvert_exporter": "python",
   "pygments_lexer": "ipython3",
   "version": "3.6.8"
  }
 },
 "nbformat": 4,
 "nbformat_minor": 2
}
